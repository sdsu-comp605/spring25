{
 "cells": [
  {
   "cell_type": "markdown",
   "metadata": {},
   "source": [
    "# 17) Parallel reductions and scans\n",
    "\n",
    "Last time:\n",
    "- Case Study 2: ClimaCore.jl\n",
    "\n",
    "Today:\n",
    "1. Reductions\n",
    "2. Parallel scans\n",
    "3. Graphs"
   ]
  },
  {
   "cell_type": "markdown",
   "metadata": {},
   "source": [
    "## 1. Reductions\n",
    "\n",
    "[Reduction operators](https://en.wikipedia.org/wiki/Reduction_operator) are a type of operators commonly used in parallel programming to reduce the elements of an array into a single result. Reduction operators are associative and often (but not necessarily) commutative.\n",
    "\n",
    "A C snippet for a reduction operation would look like:\n",
    "\n",
    "```c\n",
    "double reduce(int n, double x[]) {\n",
    "    double y = 0;\n",
    "    for (int i=0; i<n; i++)\n",
    "        y += x[i];\n",
    "    return y;\n",
    "}\n",
    "```\n",
    "\n",
    "Expressing essential data dependencies, traversing the entries of the array `x` iteratively, like in the for-loop above, results in the following [directed acyclic graph](https://en.wikipedia.org/wiki/Directed_acyclic_graph) (DAG):\n",
    "\n",
    "![Iterative direct acyclic graph](../img/reduction-iterative.png \"Iterative direct acyclic graph\")\n",
    "\n",
    "The properties of this DAG are the following:\n",
    "* Work $W(n) = n$\n",
    "* Depth $D(n) = n$\n",
    "* Parallelism $P(n) = \\frac{W(n)}{D(n)} = 1$\n",
    "\n",
    "### A 2-level method\n",
    "\n",
    "```c\n",
    "double reduce(int n, double x[]) {\n",
    "    int P = sqrt(n); // ways of parallelism\n",
    "    double y[P];\n",
    "    #pragma omp parallel for shared(y)\n",
    "    for (int p=0; p<P; p++) {\n",
    "        y[p] = 0;\n",
    "        for (int i=0; i<n/P; i++)\n",
    "            y[p] += x[p*(n/P) + i];\n",
    "    }\n",
    "    double sum = 0;\n",
    "    for (int p=0; p<P; p++)\n",
    "        sum += y[p];\n",
    "    return sum;\n",
    "}\n",
    "```\n",
    "\n",
    "With the above 2-level approach, the DAG has the following properties:\n",
    "\n",
    "* Work $W(n) = n + \\sqrt{n}$\n",
    "* Depth $D(n) = 2 \\sqrt{n}$\n",
    "* Parallelism $P(n) = \\sqrt{n}$\n",
    "\n",
    "### [PRAM](https://en.wikipedia.org/wiki/Parallel_RAM) performance model\n",
    "\n",
    "A parallel random-access machine (PRAM) is used to model time complexity of parallel algorithms (without taking into account practicalities such as latency and synchronization). In this model we have:\n",
    "* Processing units (e.g., OpenMP threads) execute local programs\n",
    "* Communication through shared memory with no access cost\n",
    "* Synchronous operation on a common clock\n",
    "  * Barrier-like constructs are free\n",
    "* Multiple Instruction, Multiple Data (MIMD)\n",
    "\n",
    "#### Scheduling\n",
    "\n",
    "How much time does it take to execute a DAG on $p$ processors?\n",
    "\n",
    "* Sum work of each node $i$ along critical path of length $D(n)$\n",
    "$$ \\sum_{i=1}^{D(n)} W_i $$\n",
    "\n",
    "* Partition total work $W(n)$ over $p \\le P(n)$ processors (as though there were no data dependencies)\n",
    "$$ \\left\\lceil \\frac{W(n)}{p} \\right\\rceil $$\n",
    "\n",
    "* Total time must be at least as large as either of these\n",
    "$$ T(n,p) \\ge \\max\\left( D(n), \\left\\lceil \\frac{W(n)}{p} \\right\\rceil \\right) $$\n"
   ]
  },
  {
   "cell_type": "markdown",
   "metadata": {},
   "source": [
    "### More levels?\n",
    "\n",
    "```c\n",
    "double reduce(int n, double x[]) {\n",
    "    if (n == 1) return x[0];\n",
    "    double y[n/2];\n",
    "    #pragma omp parallel for shared(y)\n",
    "    for (int i=0; i<n/2; i++)\n",
    "        y[i] = x[2*i] + x[2*i+1];\n",
    "    return reduce(n/2, y);\n",
    "}\n",
    "```\n",
    "\n",
    "The above snippets divides the array `x` in half and recursively applies the reduction on each of the two halves, resulting in the following DAG:\n",
    "\n",
    "![Recursive direct acyclic graph for a reduction](../img/reduction-recursive.png \"Recursive direct acyclic graph for a reduction\")\n",
    "\n",
    "With the above bisection/recursive approach, the DAG has the following properties:\n",
    "\n",
    "* $W(n) = n/2 + n/4 + n/8 + \\dotsb = n$\n",
    "* $D(n) = \\log_2 n$\n",
    "* $P(n) = n/\\log_2 n$"
   ]
  },
  {
   "cell_type": "markdown",
   "metadata": {},
   "source": [
    "## 2. Parallel scans\n",
    "\n",
    "A \"[scan](https://en.wikipedia.org/wiki/Prefix_sum)\" in computer science is also called a prefix sum and is a sequence of numnbers obtained as the sum of another sequence of numbers. For example, the scan of the first $n$ natural numbers are the triangular numbers. A C snippet to compute this scan looks like the following:\n",
    "\n",
    "```c\n",
    "void scan(int n, double x[], double y[]) {\n",
    "    y[0] = x[0];\n",
    "    for (int i=1; i<n; i++)\n",
    "        y[i] = y[i-1] + x[i];\n",
    "}\n",
    "```\n",
    "\n",
    "Questions:\n",
    "* What are the DAG properties of this algorithm?\n",
    "* How fast can we make it?\n",
    "\n",
    "![Recursive direct acyclic graph for a scan](../img/scan-recursive.png \"Recursive direct acyclic graph for a scan\")\n",
    "\n",
    "How can we optimize it?\n",
    "\n",
    "```c\n",
    "void scan_inplace(int n, double y[], int stride) {\n",
    "    if (2*stride > n) return;\n",
    "    #pragma omp parallel for\n",
    "    for (int i=2*stride-1; i<n; i+=2*stride)\n",
    "        y[i] += [i - stride];\n",
    "\n",
    "    scan(n, y, 2*stride);\n",
    "\n",
    "    #pragma omp parallel for\n",
    "    for (int i=3*stride-1; i<n; i+=2*stride)\n",
    "        y[i] += y[i - stride];\n",
    "}\n",
    "\n",
    "// call like\n",
    "scan_inplace(n, x, 1);\n",
    "```"
   ]
  },
  {
   "cell_type": "markdown",
   "metadata": {},
   "source": [
    "### Application of scans: parallel select\n",
    "\n",
    "Select elements of array `x[]` that satisfy a given condition `cond`.\n",
    "\n",
    "```c\n",
    "int c[n];\n",
    "#pragma omp parallel for\n",
    "for (int i=0; i<n; i++)\n",
    "    c[i] = cond(x[i]); // returns 1 or 0\n",
    "\n",
    "scan_inplace(n, c, 1);\n",
    "\n",
    "double results[c[n-1]]; // allocate array with total number of items\n",
    "#pragma omp parallel for\n",
    "for (int i=0; i<n; i++)\n",
    "    if (cond(x[i])) // Can use `c[i] - c[i-1]` to avoid recomputing\n",
    "        results[c[i]-1] = x[i];\n",
    "```"
   ]
  },
  {
   "cell_type": "markdown",
   "metadata": {},
   "source": [
    "## 3. Graphs\n",
    "\n",
    "An (undirected) graph $(V, E)$ is a set of vertices $V$ and unordered pairs $(u,v) = (v,u) \\in E$ of vertices $u,v \\in V$.\n",
    "\n",
    "Graphs are often expressed by their adjacency matrix of dimension $n\\times n$ where $n = |V|$,\n",
    "\n",
    "$$ A_{ij} = \\begin{cases}\n",
    "    1, & \\text{if } (i,j) \\in E \\\\\n",
    "    0,              & \\text{otherwise}\n",
    "\\end{cases}\n",
    "$$"
   ]
  },
  {
   "cell_type": "code",
   "execution_count": null,
   "metadata": {},
   "outputs": [],
   "source": [
    "using Graphs, GraphRecipes\n",
    "using Plots\n",
    "\n",
    "# Create a 3x3 grid graph\n",
    "G = SimpleGraph(9)\n",
    "for i in 1:3\n",
    "    for j in 1:3\n",
    "        node = (i-1)*3 + j\n",
    "        if i < 3\n",
    "            add_edge!(G, node, node+3)\n",
    "        end\n",
    "        if j < 3\n",
    "            add_edge!(G, node, node+1)\n",
    "        end\n",
    "    end\n",
    "end\n",
    "\n",
    "# Draw the graph with labels\n",
    "graphplot(G)\n"
   ]
  },
  {
   "cell_type": "code",
   "execution_count": null,
   "metadata": {},
   "outputs": [],
   "source": [
    "A = adjacency_matrix(G)"
   ]
  },
  {
   "cell_type": "markdown",
   "metadata": {},
   "source": [
    "### Compressed representation\n",
    "\n",
    "Adjacency matrices often have many zeros so it's common to store a compressed representation.\n",
    "\n",
    "We'll revisit such formats for sparse matrices.\n",
    "\n",
    "In Julia, this representation is Compressed Sparse Column ([CSC](https://docs.julialang.org/en/v1/stdlib/SparseArrays/#man-csc))."
   ]
  },
  {
   "cell_type": "code",
   "execution_count": null,
   "metadata": {},
   "outputs": [],
   "source": [
    "A.colptr"
   ]
  },
  {
   "cell_type": "code",
   "execution_count": null,
   "metadata": {},
   "outputs": [],
   "source": [
    "A.rowval"
   ]
  },
  {
   "cell_type": "code",
   "execution_count": null,
   "metadata": {},
   "outputs": [],
   "source": [
    "# Loop through the rows and print the indices\n",
    "for row in 1:size(A, 1)\n",
    "    println(A.rowval[A.colptr[row]:A.colptr[row+1]-1])\n",
    "end"
   ]
  },
  {
   "cell_type": "markdown",
   "metadata": {},
   "source": [
    "### Maximal independent set (MIS)\n",
    "\n",
    "An independent set is a set of vertices $S \\subset V$ such that $(u,v) \\notin E$ for any pair $u,v \\in S$."
   ]
  },
  {
   "cell_type": "code",
   "execution_count": null,
   "metadata": {},
   "outputs": [],
   "source": [
    "independent_set(G, MaximalIndependentSet())"
   ]
  },
  {
   "cell_type": "markdown",
   "metadata": {},
   "source": [
    "Maximal independent sets are not unique.\n",
    "\n",
    "### Greedy Algorithms\n",
    "\n",
    "1. Start with all vertices in candidate set $C = V$, empty $S$\n",
    "2. While $C \\ne \\emptyset$: Choose a vertex $v \\in C$\n",
    "  * Add $v$ to $S$\n",
    "  * Remove $v$ and all neighbors of $v$ from $C$\n",
    "\n",
    "Algorithms differ in how they choose the next vertex $v \\in C$."
   ]
  }
 ],
 "metadata": {
  "kernelspec": {
   "display_name": "Julia 1.10.6",
   "language": "julia",
   "name": "julia-1.10"
  },
  "language_info": {
   "file_extension": ".jl",
   "mimetype": "application/julia",
   "name": "julia",
   "version": "1.10.6"
  }
 },
 "nbformat": 4,
 "nbformat_minor": 2
}
