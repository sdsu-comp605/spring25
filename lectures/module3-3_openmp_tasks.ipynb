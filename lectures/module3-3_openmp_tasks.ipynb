{
 "cells": [
  {
   "cell_type": "markdown",
   "metadata": {},
   "source": [
    "# 13) More on OpenMP and OpenMP Tasks\n",
    "\n",
    "Last time:\n",
    "- OpenMP Basics\n",
    "- `#pragma omp parallel` \n",
    "- `#pragma omp simd` \n",
    "\n",
    "Today: \n",
    "1. [More on OpenMP](#more-on-openmp)  \n",
    "2. [Memory semantics](#memory-semantics)    \n",
    "3. [A quick demo on `perf`](#a-quick-demo-on-perf)  \n",
    "4. [OpenMP Tasks](#openmp-tasks)\n",
    "\n",
    "## 1. More on OpenMP\n",
    "\n",
    "What does the compiler do when we add the `#pragma openmp parallel` directive?\n",
    "\n",
    "```c\n",
    "static double dot_opt3(size_t n, const double *a, const double *b) {\n",
    "  double sum = 0;\n",
    "  omp_set_num_threads(4);\n",
    "  #pragma omp parallel\n",
    "  {\n",
    "    #pragma omp for reduction(+:sum)\n",
    "    for (size_t i=0; i<n; i++)\n",
    "      sum += a[i] * b[i];\n",
    "  }\n",
    "  return sum;\n",
    "}\n",
    "```\n"
   ]
  },
  {
   "cell_type": "code",
   "execution_count": null,
   "metadata": {
    "vscode": {
     "languageId": "plaintext"
    }
   },
   "outputs": [],
   "source": [
    "! gcc -Os -march=native -fopenmp ../c_codes/module3-3/dot.c -o dot"
   ]
  },
  {
   "cell_type": "code",
   "execution_count": null,
   "metadata": {},
   "outputs": [],
   "source": [
    "! objdump -d --prefix-addresses -M intel dot | grep dot_opt3"
   ]
  },
  {
   "cell_type": "markdown",
   "metadata": {},
   "source": [
    "### Anatomy of a parallel region\n",
    "\n",
    "graph LR; A[dot_opt3]-->B[GOMP_parallel]; B-- id=0_ -->C{dot_opt3._omp_fn.0}; B-- id=1_ -->C{dot_opt3._omp_fn.0}; B-- id=2_ -->C{dot_opt3._omp_fn.0}; A-. \"Body inside__\" .->C; C-->D[omp_get_num_threads]; C-->E[omp_get_thread_num]; style A fill:#9b9,stroke:#686,stroke-width:4px; style C fill:#9b9,stroke:#668,stroke-width:8px;"
   ]
  }
 ],
 "metadata": {
  "kernelspec": {
   "display_name": "Python 3 (ipykernel)",
   "language": "python",
   "name": "python3"
  },
  "language_info": {
   "codemirror_mode": {
    "name": "ipython",
    "version": 3
   },
   "file_extension": ".py",
   "mimetype": "text/x-python",
   "name": "python",
   "nbconvert_exporter": "python",
   "pygments_lexer": "ipython3",
   "version": "3.12.3"
  }
 },
 "nbformat": 4,
 "nbformat_minor": 4
}
