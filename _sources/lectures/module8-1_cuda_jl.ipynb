{
 "cells": [
  {
   "cell_type": "markdown",
   "id": "83d3d99e",
   "metadata": {},
   "source": [
    "# 28) Intro to GPU programming in Julia "
   ]
  }
 ],
 "metadata": {
  "language_info": {
   "name": "python"
  }
 },
 "nbformat": 4,
 "nbformat_minor": 5
}
