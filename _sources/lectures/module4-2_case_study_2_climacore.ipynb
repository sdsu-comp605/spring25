{
 "cells": [
  {
   "cell_type": "markdown",
   "metadata": {},
   "source": [
    "# 15) Case Study 2: [ClimaCore](https://github.com/CliMA/ClimaCore.jl)\n",
    "\n",
    "Last time:\n",
    "- libCEED\n",
    "\n",
    "Today:\n",
    "1. ESM  \n",
    "2. A dynamical core (dycore)  \n",
    "3. ClimaCore.jl  \n",
    "  3.1 Spatial Discretization  \n",
    "  3.2 ClimaCore.jl API\n",
    "  3.3 ClimaCore.jl’s composable `Operators` and Julia broadcasting\n",
    "  3.4 Some perfomance plots\n",
    "\n",
    "## 1. ESM\n",
    "\n",
    "An **Eart System Moel (ESM)** simulates how the Earth's atmosphere, oceans, land, ice, and biosphere interact. ESMs are used to understand and predict how the Earth's climate will change. \n",
    "\n",
    "To understand Earth system models, it helps to first understand **global climate models**. Climate is the _long-term_ pattern of weather variables. It includes temperature, rain and snowfall, humidity, sunlight, and wind and how they occur over many years. Climate models explain how these variables can change using mathematical analysis based on the physics of how energy, gases, and fluids move, combined with measurements taken from experiments, laboratories, and other observations in the real world.\n",
    "\n",
    "Climate models include:\n",
    "\n",
    "- The atmosphere including clouds, aerosols, and gases, the land surface and how it is covered by vegetation, snow and ice, lakes and rivers, and soil, sea ice and the oceans.\n",
    "\n",
    "- How all these components store and move the heat and carbon that warm the Earth’s atmosphere.\n",
    "\n",
    "- Global climate models treat the Earth as a giant grid. The size of each cell in the grid is determined by the power of the computer running the model.\n",
    "\n",
    "The goal of Earth system models is to understand how the Earth functions as a system of interdependent parts. These parts include the physical, chemical, and biological processes and interact with one another.\n",
    "\n",
    "> Recommended Reading:\n",
    "> [Department of Energy (DOE) explains Earth system and climate models](https://www.energy.gov/science/doe-explainsearth-system-and-climate-models)."
   ]
  },
  {
   "cell_type": "markdown",
   "metadata": {},
   "source": [
    "## 2. A dynamical core (dycore)\n",
    "\n",
    "The mathematical and numerical modeling needed to solve the governing equations of the physics that drives global climate models is what constitutes a so-called **dynamical core (dycore)**. This may include:\n",
    "\n",
    "- Meshing: discrete representation of the geometry\n",
    "- Numerical methods for spatial and temporal discretizations of the PDEs\n",
    "- How differential operators or different discretizations are composed to describe te full system\n",
    "- Definition and implementation of different boundary conditions \n",
    "\n",
    "![A cubed sphere](../img/CubedSphere.png \"A cubed sphere\")"
   ]
  },
  {
   "cell_type": "markdown",
   "metadata": {},
   "source": [
    "## 3. [ClimaCore.jl](https://github.com/CliMA/ClimaCore.jl)\n",
    "\n",
    "The dynamical core (_dycore_) of the [Climate Modeling Alliance (CliMA)](https://clima.caltech.edu/) atmosphere model is designed for efficient simulation of a wide range of atmospheric flows across scales. From high-resolution regional scales defined in terms of Large Eddy Simulations (LES) to global circulation models (GCM).\n",
    "\n",
    "The main goal of the CliMA project is to build an ESM that automatically learns from diverse data sources to produce accurate climate predictions with quantified uncertainties. \n",
    "\n",
    "CliMA's new Earth System Model (ESM) is entirely written in the Julia programming language.\n",
    "\n",
    "![Learning model in an ESM](../img/Learning.png \"Learning model in an ESM\")\n",
    "\n",
    "The CliMA model targets both CPU and GPU architectures, using a common codebase. ClimaCore.jl constitutes the dynamical core (_dycore_) of the atmosphere and land models, providing discretization tools to solve the governing equations of the ESM component models. \n",
    "\n",
    "![The schematic of an ESM](../img/ESMSchematic.png \"The schematic of an ESM\")\n",
    "\n",
    "ClimaCore.jl's high-level application programming interface (API) facilitates modularity and composition of differential operators and the definition of flexible discretizations: Spectral Element Method (SEM) in the horizontal direction, coupled with staggered finite differences (FD) in the vertical direction. This approach leverages the high-order accuracy and scalability of the SEM, while maintaining the computational efficiency and stability of finite differences on a staggered grid. The model’s coordinate-independent equation set allows for simulations in a variety of geometries and planetary configurations.\n",
    "\n",
    "ClimaCore.jl also presents low-level APIs that support different data layouts, specialized implementations, and flexible models for threading, to better face high-performance optimization, data storage, and scalability challenges on modern HPC architectures."
   ]
  },
  {
   "cell_type": "markdown",
   "metadata": {},
   "source": [
    "### 3.1 Spatial Discretization\n",
    "\n",
    "Geometry:\n",
    "- Supports different geometries (Cartesian & spherical).\n",
    "- Supports covariant vector representation for curvilinear, non-orthogonal systems and Cartesian vectors for Euclidean spaces.\n",
    "\n",
    "![Vector representations in different bases](../img/Bases.png \"Vector representations in different bases\")\n",
    "\n",
    "Space Discretizations:\n",
    "- Horizontal: Support both Continuous Galerkin (CG) and Discontinuous Galerkin (DG).\n",
    "- Vertical: staggered Finite Differences (FD).\n",
    "\n",
    "![Discretization Sketch](../img/DiscretizationSketch.jpg \"Discretization Sketch\")"
   ]
  },
  {
   "cell_type": "markdown",
   "metadata": {},
   "source": [
    "### 3.2 ClimaCore.jl API\n",
    "\n",
    "API objects:\n",
    "- Domain, Mesh, Topology, Space, Field.\n",
    "\n",
    "![ClimaCore.jl API objects](../img/APIobjects.png \"ClimaCore.jl API objects\")\n"
   ]
  },
  {
   "cell_type": "markdown",
   "metadata": {},
   "source": [
    "`Field` abstraction:\n",
    "- Scalar, Vector or Struct-valued.\n",
    "- Stores values, geometry, and mesh info.\n",
    "- Flexible memory layouts.\n",
    "- Useful overloads: `sum` (integral of a given field across the domain), `norm`, `mean`.\n",
    "- Compatible with DifferentialEquations.jl and ad-hoc time integrators.\n",
    "\n",
    "![\"ClimaCore.jl space discretization code snippet\"](../img/Space-discretization-snippet.png \"ClimaCore.jl space discretization code snippet\")"
   ]
  },
  {
   "cell_type": "markdown",
   "metadata": {},
   "source": [
    "Once you define a (scalar/vector) field on a space, you can easily use [reduction operators](https://en.wikipedia.org/wiki/Reduction_operator), using the same syntax, whether you run on a single process, single-threaded mode or parallel:\n",
    "\n",
    "![ClimaCore.jl sum code snippet](../img/sum-ones-space-snippet.png \"ClimaCore.jl sum code snippet\")"
   ]
  },
  {
   "cell_type": "markdown",
   "metadata": {},
   "source": [
    "### 3.3 ClimaCore.jl’s composable `Operators` and Julia broadcasting\n",
    "\n",
    "Julia broadcasting:\n",
    "\n",
    "- it applies a vectorized function point-wise to an array. Scalar values are \"_broadcast_\" over arrays; \n",
    "  * It can do fusion of multiple operations automatically.\n",
    "- User-extensible API: can be specialized for custom functions or argument types (e.g., `CuArray` compiles and applies a custom CUDA kernel if you are running on an NVIDIA GPU).\n",
    "\n",
    "![Julia broadcasting code snippet](../img/Julia-broadcasting-snippet.png \"Julia broadcasting code snippet\")\n",
    "\n",
    "`Operators` (`grad` for gradient, `div` for divergence, `interpolate` for interpolation, etc.) are \"pseudo-functions\": \n",
    "  * they act like functions when broadcasted over a `Field`, but can’t be called on a single value; \n",
    "  * can be composed and fused with function calls \n",
    "  * _Matrix-free_ representation, i.e., no assembly of the operator matrix, but the user only specifies the _action_ of operator.\n",
    "\n",
    "Composition of multiple operators is very easy and user-fiendly. Example: a Diffusion (Laplacian) operator in weak form looks like this in ClimaCore.jl's API:\n",
    "\n",
    "![Weak form diffusion operator in ClimaCore.jl](../img/weak-form-diffusion-operator-snippet.png \"Weak form diffusion operator in ClimaCore.jl\")\n"
   ]
  },
  {
   "cell_type": "markdown",
   "metadata": {},
   "source": [
    "#### Example: Shallow-water equations\n",
    "\n",
    "![Shallow-water equations in ClimaCore.jl](../img/ClimaCore_SWE.png \"Shallow-water equations in ClimaCore.jl\")\n",
    "\n",
    "The shallow-water equations provide a test case for atmospheric flow simulations. One of the typical examples/test cases is the flow past a mountain:\n",
    "\n",
    "![Mountain shallow-water test case in ClimaCore.jl](../img/mountain_height_day10_with_bg.gif \"Mountain shallow-water test case in ClimaCore.jl\")\n",
    "\n",
    "#### Example: Transport (advection) of tracers\n",
    "\n",
    "![Transport of tracers equation in ClimaCore.jl](../img/ClimaCore_transport_equation.png \"Transport of tracers equation in ClimaCore.jl\")\n",
    "\n",
    "#### Example: barotropic instability\n",
    "\n",
    "A more complicated example/test case for a global circulation model (GCM) is the barotropic instability. The GIF below shows a 10-day simulation: \n",
    "\n",
    "![Barotropic instability test case in ClimaCore.jl](../img/barotropic_instability_vorticity_day10_with_bg_short.gif \"Barotropic instability test case in ClimaCore.jl\")\n",
    "\n",
    "> Other Examples:\n",
    "> - Other examples can be found at [ClimaCore.jl/examples](https://github.com/CliMA/ClimaCore.jl/tree/main/examples) divided by domain geometries: \n",
    ">   * `column/`: 1D examples in the vertical direction only. These require interpolating quantities on the staggered grid (from face values to center values and viceversa)\n",
    ">   * `plane/`: 2D examples on a rectangular grid\n",
    ">   * `sphere/`: 2D examples on a spherical grid\n",
    ">   * `hybrid/`: collects 3D examples with a hybrid mesh, i.e., with spectral element discretization in the horizontal direction and staggered finite difference in the vertical direction, in both Cartesian (2D `plane/` and 3D `box/`) and spherical grids (`sphere/`) \n"
   ]
  },
  {
   "cell_type": "markdown",
   "metadata": {},
   "source": [
    "### 3.4 Some performance plots\n",
    "\n",
    "To examine strong scaling in climate models, it is customary to increase the number of processors for several fixed resolutions, $\\delta x$, and determine the time-to-solution in **symulated years per day (SYPD)**. \n",
    "\n",
    "In the following plots, several resolution results are presented, from the coarsest resolution, $103$ km ($N_e = 30 \\times 30$ horizontal elements on each cubed sphere panel), to the finest, $13$ km ($N_e = 240 \\times 240$ horizontal elements on each cubed sphere panel), for the moist baroclinic wave test as a benchmark.\n",
    "\n",
    "The GPUs (left) are NVIDIA A100 GPUs, and the CPU (right) nodes consist of 32-core Intel Icelake 8352Y processors, with 16 MPI ranks per CPU node.\n",
    "\n",
    "![CliMA dycore strong scaling plots](../img/CliMA_dycore_strong_scaling.png \"CliMA dycore strong scaling plots\")\n",
    "\n",
    "For weak scaling studies, the problem resolution (and therefore problem size) varies with the resources in the system. Here we plot **time per model timestep** versus number of GPUs (left) and CPU nodes (right) for different horizontal resolutions.\n",
    "\n",
    "![CliMA dycore weak scaling plots](../img/CliMA_dycore_weak_scaling.png \"CliMA dycore weak scaling plots\")"
   ]
  }
 ],
 "metadata": {
  "language_info": {
   "name": "python"
  }
 },
 "nbformat": 4,
 "nbformat_minor": 2
}
