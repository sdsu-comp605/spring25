{
 "cells": [
  {
   "cell_type": "markdown",
   "metadata": {},
   "source": [
    "# 22) Blocking and non-blocking communication\n",
    "\n",
    "Last time:\n",
    "- Introduction to MPI.jl\n",
    "\n",
    "Today:\n",
    "1. Blocking communication  \n",
    "  1.1 Examples\n",
    "2. Non-blocking communication\n",
    " "
   ]
  },
  {
   "cell_type": "markdown",
   "metadata": {},
   "source": [
    "## 1. Blocking communication\n",
    "\n",
    "Note that most MPI routines return error codes indicating successful executing of a function. For the most part these are ignored by the MPI wrappers in Julia... For example, see the help string for the `MPI.Send` below:\n",
    "\n",
    "```julia\n",
    "help?> MPI.Send\n",
    "  Send(buf, comm::Comm; dest::Integer, tag::Integer=0)\n",
    "\n",
    "  Perform a blocking send from the buffer buf to MPI rank dest of communicator comm using the\n",
    "  message tag tag.\n",
    "\n",
    "  Send(obj, comm::Comm; dest::Integer, tag::Integer=0)\n",
    "\n",
    "  Complete a blocking send of an isbits object obj to MPI rank dest of communicator comm using with\n",
    "  the message tag tag.\n",
    "\n",
    "  External links\n",
    "  ≡≡≡≡≡≡≡≡≡≡≡≡≡≡\n",
    "\n",
    "    •  MPI_Send man page: OpenMPI\n",
    "       (https://docs.open-mpi.org/en/main/man-openmpi/man3/MPI_Send.3.html), MPICH\n",
    "       (https://www.mpich.org/static/docs/v4.0/www3/MPI_Send.html)\n",
    "```\n",
    "\n",
    "Likewise for the `MPI.Recv` function:\n",
    "\n",
    "```julia\n",
    "help?> MPI.Recv!\n",
    "  data = Recv!(recvbuf, comm::Comm;\n",
    "          source::Integer=MPI.ANY_SOURCE, tag::Integer=MPI.ANY_TAG)\n",
    "  data, status = Recv!(recvbuf, comm::Comm, MPI.Status;\n",
    "          source::Integer=MPI.ANY_SOURCE, tag::Integer=MPI.ANY_TAG)\n",
    "\n",
    "  Completes a blocking receive into the buffer recvbuf from MPI rank source of communicator comm\n",
    "  using with the message tag tag.\n",
    "\n",
    "  recvbuf can be a Buffer, or any object for which Buffer(recvbuf) is defined.\n",
    "\n",
    "  Optionally returns the Status object of the receive.\n",
    "\n",
    "  See also\n",
    "  ≡≡≡≡≡≡≡≡\n",
    "\n",
    "    •  Recv\n",
    "\n",
    "    •  recv\n",
    "\n",
    "  External links\n",
    "  ≡≡≡≡≡≡≡≡≡≡≡≡≡≡\n",
    "\n",
    "    •  MPI_Recv man page: OpenMPI\n",
    "       (https://docs.open-mpi.org/en/main/man-openmpi/man3/MPI_Recv.3.html), MPICH\n",
    "       (https://www.mpich.org/static/docs/v4.0/www3/MPI_Recv.html)\n",
    "```\n",
    "\n",
    "- `MPI.Send` blocks until the message has been sent (that means that whatever was in the `buf` can be written over)\n",
    "\n",
    "- `MPI.Recv!` blocks until the message has been full received (that means that `buf` is the valid data). Since two ranks may be sending multiple messages to one another, `tag` uniquely identifies each message (both ranks must use the same tag).\n",
    "\n",
    "- For most applications (everything I've ever done) the process receiving the communication can predict how much data it will receive. If this is not the case the status variable can be used to find out how much data was received via `MPI.Get_count`.\n",
    "\n",
    "- Similarly, `source` and `tag` in `MPI.Recv` can be set to `MPI.ANY_SOURCE` and `MPI.ANY_TAG` and then the status variable can be used to determine the source process rank and the tag received. That said, I've never used this in practice and most likely this is not needed for this class."
   ]
  },
  {
   "cell_type": "markdown",
   "metadata": {},
   "source": [
    "## 1.1 Examples\n",
    "\n",
    "### Example of blocking communication"
   ]
  }
 ],
 "metadata": {
  "language_info": {
   "name": "python"
  }
 },
 "nbformat": 4,
 "nbformat_minor": 2
}
