{
 "cells": [
  {
   "cell_type": "markdown",
   "id": "e06d2705",
   "metadata": {},
   "source": [
    "# 31) ISPC, OpenMP target, OpenACC, and all that\n",
    "\n",
    "Last time:\n",
    "\n",
    "- Parallel reductions with CUDA.jl\n",
    "- Different strategies of optmization on the GPU\n",
    "\n",
    "Today: \n",
    "\n",
    "1. ISPC  \n",
    "2. OpenMP target offload  \n",
    "  2.1 Terminology\n",
    "3. OpenACC  "
   ]
  },
  {
   "cell_type": "markdown",
   "id": "ad0d5ee1",
   "metadata": {},
   "source": [
    "| Architecture | Directives | SIMD | SPMD |\n",
    "|---------|-----------|------|-----|\n",
    "| Intel AVX+ (SIMD) | `#pragma omp simd` | [intrinsics](https://software.intel.com/sites/landingpage/IntrinsicsGuide/#) | [ISPC](https://ispc.github.io/ispc.html) |\n",
    "| CUDA (SIMT) | `#pragma omp target` | C++ templates and other high-level APIs | CUDA |\n",
    "\n",
    "## 1. [ISPC: Intel SPMD Program Compiler](https://ispc.github.io/ispc.html)\n",
    "\n",
    "The Intel **Implicit SPMD Program Compiler (ISPC)** is a compiler for writing **single program multiple data (SPMD)** programs to run on the CPU and GPU. \n",
    "\n",
    "The SPMD programming approach is similar to approaches used in computer graphics and general-purpose-GPU programming; it is used for GPU shaders and CUDA and OpenCL kernels, for example.\n",
    "\n",
    "- The main idea behind SPMD is that one writes programs as if they were operating on a single data element (a pixel for a pixel shader, for example), but then the underlying hardware and runtime system executes multiple invocations of the program in parallel with different inputs (the values for different pixels, for example).\n",
    "\n",
    "- In summary, we can program **SIMT** (e.g., CUDA) devices using directives, but we can also program **SIMD** (e.g., Intel CPUs) using a **SPMD** (recall, the CUDA-like, acronym that comes from \"single program\" versus \"single instruction\") programming model.\n"
   ]
  },
  {
   "cell_type": "markdown",
   "id": "0a5c9a02",
   "metadata": {},
   "source": [
    "```{literalinclude} ../c_codes/module9-1/simple-ispc.ispc\n",
    ":language: c\n",
    ":linenos: true\n",
    "```"
   ]
  },
  {
   "cell_type": "markdown",
   "id": "d6bd7bf6",
   "metadata": {},
   "source": [
    "This function is callable from native C code. Example:\n",
    "\n",
    "```{literalinclude} ../c_codes/module9-1/simple.c\n",
    ":language: c\n",
    ":linenos: true\n",
    "```\n"
   ]
  },
  {
   "cell_type": "code",
   "execution_count": 2,
   "id": "2bb9602a-2b9d-4245-ae23-6abce2140c54",
   "metadata": {},
   "outputs": [],
   "source": [
    "! gcc -O3 -march=native -o simple.o -c ../c_codes/module9-1/simple.c && ispc -O3 --target=avx2-i32x8 ../c_codes/module9-1/simple-ispc.ispc -o simple-ispc.o && gcc simple.o simple-ispc.o  -lm -o simple  && ./simple"
   ]
  },
  {
   "cell_type": "code",
   "execution_count": null,
   "id": "b0748b6f-3212-414d-aae9-414449ac04fc",
   "metadata": {},
   "outputs": [],
   "source": []
  }
 ],
 "metadata": {
  "kernelspec": {
   "display_name": "Python 3 (ipykernel)",
   "language": "python",
   "name": "python3"
  },
  "language_info": {
   "codemirror_mode": {
    "name": "ipython",
    "version": 3
   },
   "file_extension": ".py",
   "mimetype": "text/x-python",
   "name": "python",
   "nbconvert_exporter": "python",
   "pygments_lexer": "ipython3",
   "version": "3.12.3"
  }
 },
 "nbformat": 4,
 "nbformat_minor": 5
}
