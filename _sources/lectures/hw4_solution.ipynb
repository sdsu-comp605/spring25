{
 "cells": [
  {
   "cell_type": "markdown",
   "id": "e0d26929",
   "metadata": {},
   "source": [
    "# 33) HW4 Solution\n",
    "\n"
   ]
  }
 ],
 "metadata": {
  "language_info": {
   "name": "python"
  }
 },
 "nbformat": 4,
 "nbformat_minor": 5
}
