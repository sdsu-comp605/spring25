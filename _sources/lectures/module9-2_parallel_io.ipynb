{
 "cells": [
  {
   "cell_type": "markdown",
   "id": "8e850107",
   "metadata": {},
   "source": [
    "# 33) I/O in HPC\n",
    "\n",
    "Last time:\n",
    "- ISPC\n",
    "- OpenMP and OpenACC\n",
    "\n",
    "Today:\n",
    "1. Hiding latency\n",
    "2. Examples of HPC File Systems  \n",
    "  2.1 Summit File Systems"
   ]
  },
  {
   "cell_type": "markdown",
   "id": "a058b958",
   "metadata": {},
   "source": [
    "## 1. Hiding latency\n",
    "\n",
    "Throughout this course, we've discussed ways in which computer architecture and algorithms hide latency.\n",
    "* instruction-level parallelism\n",
    "* SMT/SIMT multi-threading\n",
    "* memory prefetch\n",
    "* organizing data structures for streaming access and cache reuse\n",
    "* tiling, etc.\n",
    "\n",
    "But the reality is that file latency is vastly _higher_ than memory."
   ]
  },
  {
   "cell_type": "code",
   "execution_count": null,
   "id": "92a302e6",
   "metadata": {},
   "outputs": [],
   "source": [
    "using IJulia\n",
    "\n",
    "html\"\"\"<iframe src=\"https://people.eecs.berkeley.edu/~rcs/research/interactive_latency.html\" width=\"1200\" height=\"700\"></iframe>\"\"\"\n"
   ]
  },
  {
   "cell_type": "markdown",
   "id": "2e4f0d68",
   "metadata": {},
   "source": [
    "| Device | Bandwidth (GB/s) | Cost (\\$/TB) | Seek Latency ($\\mu$s) |\n",
    "|----|----|----|----|\n",
    "| 7200 RPM disk | 0.3 | 30 | >3000 |\n",
    "| SSD (SATA 3.0) | 0.6 | 70-80 | 15-50 |\n",
    "| SSD/NVMe (PCIe-3 x4) | 3 | 120-1000 | 10-20 |\n",
    "| DRAM DDR4 | 25 | 5000 | 0.1 |"
   ]
  },
  {
   "cell_type": "markdown",
   "id": "a2d3330e",
   "metadata": {},
   "source": [
    "![Scientific Workflows](../img/scientific-workflows.png \"Scientific Workflows\")\n",
    "\n",
    "Guess which one is one of the most data-intense application field?\n",
    "\n",
    "![ICON Example](../img/icon_example.png \"ICON Example\")\n",
    "\n",
    "The most used file formats are: \n",
    "-  NetCDF (Network Common Data Form) \n",
    "- (parallel) HDF5\n",
    "\n",
    "> [Slides credit: \"Toward Understanding I/O Behavior in HPC Workflows\" SC 18](http://www.pdsw.org/pdsw-discs18/slides/luttgau-pdsw-discs18-slides.pdf)"
   ]
  },
  {
   "cell_type": "markdown",
   "id": "090e6a9d",
   "metadata": {},
   "source": [
    "###  How much storage bandwidth does a simulation need?\n",
    "\n",
    "Example: NEK5000 (CFD application)\n",
    "\n",
    "![NEK5000 example of storage needed](../img/nek_gpu_new3.png \"NEK5000 example of storage needed\")\n"
   ]
  },
  {
   "cell_type": "markdown",
   "id": "e2db9678",
   "metadata": {},
   "source": [
    "## 2. Examples of HPC File Systems"
   ]
  },
  {
   "cell_type": "code",
   "execution_count": null,
   "id": "5073e604",
   "metadata": {},
   "outputs": [],
   "source": [
    "wall_clock_per_timestep = 0.6\n",
    "dofs_per_node = 1800 * 1e4\n",
    "MBps_per_node = dofs_per_node * 8 / wall_clock_per_timestep / 1e6\n",
    "dofs = 95e6\n",
    "MBps = dofs * 8 / wall_clock_per_timestep / 1e6\n",
    "\n",
    "(MBps_per_node, MBps)"
   ]
  },
  {
   "cell_type": "code",
   "execution_count": null,
   "id": "e59a9896",
   "metadata": {},
   "outputs": [],
   "source": [
    "seconds_per_day = 24 * 60 * 60\n",
    "TB_per_day = MBps * seconds_per_day / 1e6 # TB\n",
    "TB_per_day"
   ]
  },
  {
   "cell_type": "markdown",
   "id": "fcc70b1f",
   "metadata": {},
   "source": [
    "What if all nodes in a cluster used storage at this rate?"
   ]
  },
  {
   "cell_type": "code",
   "execution_count": null,
   "id": "2120a4fb",
   "metadata": {},
   "outputs": [],
   "source": [
    "MBps_per_node * 4600 / 1e6 # TB/s"
   ]
  },
  {
   "cell_type": "code",
   "execution_count": null,
   "id": "471b0731",
   "metadata": {},
   "outputs": [],
   "source": [
    "TB_per_day * 4600 / 8 / 1e3 # PB/day"
   ]
  },
  {
   "cell_type": "markdown",
   "id": "adc2edcc",
   "metadata": {},
   "source": [
    "### 2.1 [Summit File Systems](https://www.olcf.ornl.gov/wp-content/uploads/2018/05/Intro_Summit_File_Systems_Data_Transfers.pdf)"
   ]
  },
  {
   "cell_type": "markdown",
   "id": "221a7258",
   "metadata": {},
   "source": [
    "* Capacity: 250 PB\n",
    "* Theoretical Bandwidth: 2.5 TB/s"
   ]
  }
 ],
 "metadata": {
  "kernelspec": {
   "display_name": "Julia 1.10.6",
   "language": "julia",
   "name": "julia-1.10"
  },
  "language_info": {
   "file_extension": ".jl",
   "mimetype": "application/julia",
   "name": "julia",
   "version": "1.10.6"
  }
 },
 "nbformat": 4,
 "nbformat_minor": 5
}
